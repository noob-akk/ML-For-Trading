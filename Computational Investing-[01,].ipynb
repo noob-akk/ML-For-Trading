{
 "cells": [
  {
   "cell_type": "markdown",
   "metadata": {},
   "source": [
    "# Lesson 11: So you want to be a hedge fund manager"
   ]
  },
  {
   "cell_type": "markdown",
   "metadata": {},
   "source": [
    "### Types of funds\n",
    "\n",
    "* __Exchange Traded Funds__\n",
    "    * Has 3/4 letters\n",
    "    * Buy/Sell like stocks\n",
    "    * Baskets of stocks\n",
    "    * Transparent and are very liquid (easy to trade)\n",
    "\n",
    "* __Mutual Funds__\n",
    "    * Usually has 5 letters\n",
    "    * Buy/Sell at EOD\n",
    "    * Quaterly disclosure\n",
    "    * Less Transparent\n",
    "\n",
    "* __Hedge Funds__\n",
    "    * Buy/Sell by agreement (secret)\n",
    "    * Hard to exit a hedge fund\n",
    "    * No disclosure about what they are holding\n",
    "    * Not transparent"
   ]
  },
  {
   "cell_type": "markdown",
   "metadata": {},
   "source": [
    "__AUM__:  *Assets Under Management* is the total amount of money being managed by the fund.\n",
    "\n",
    "### How are these fund managers compensated?\n",
    "\n",
    "* ETFs\n",
    "    * Expense ratio 0.01% to 1.00% (fraction of AUM)\n",
    "* Mutual Funds\n",
    "    * Expense ratio 0.5% to 3%\n",
    "* Hedge Funds\n",
    "    * Two and Twenty\n",
    "        * 2% of AUM and 20% of profit\n",
    "    * Now-a-days they charge a little less\n",
    "    * A very few charge even more"
   ]
  },
  {
   "cell_type": "markdown",
   "metadata": {},
   "source": [
    "### How hedge funds attract investors?\n",
    "\n",
    "* Who?\n",
    "    * Individuals\n",
    "        * Wealthy folks\n",
    "    * Institutions\n",
    "        * Large retirement foundations\n",
    "        * University foundations\n",
    "    * Funds of funds\n",
    "        * grouping of money\n",
    "        \n",
    "* Why?\n",
    "    * Track record\n",
    "    * Simulation/Back test our strategy\n",
    "    * Good portfolio fit for the investors"
   ]
  },
  {
   "cell_type": "markdown",
   "metadata": {},
   "source": [
    "### Hedge fund goals and metrics\n",
    "\n",
    "* __Goals__\n",
    "    * Beat a benchmark\n",
    "        * Ex: Beat the SP500 index\n",
    "    * Absolute return\n",
    "        * Positive return no matter what\n",
    "            * __Long__ Positive bets in funds going up \n",
    "            * __Short__ Negative bets in funds going down\n",
    "            \n",
    "* __Metrics__\n",
    "    * Cumulative return\n",
    "    * Volatility\n",
    "        * Standard deviation\n",
    "    * Risk/Reward\n",
    "        * Sharpe Ratio"
   ]
  },
  {
   "cell_type": "markdown",
   "metadata": {},
   "source": [
    "### The computing inside a hedge fund\n",
    "\n",
    " "
   ]
  }
 ],
 "metadata": {
  "kernelspec": {
   "display_name": "Python 3",
   "language": "python",
   "name": "python3"
  },
  "language_info": {
   "codemirror_mode": {
    "name": "ipython",
    "version": 3
   },
   "file_extension": ".py",
   "mimetype": "text/x-python",
   "name": "python",
   "nbconvert_exporter": "python",
   "pygments_lexer": "ipython3",
   "version": "3.5.2"
  }
 },
 "nbformat": 4,
 "nbformat_minor": 2
}
