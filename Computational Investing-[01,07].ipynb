{
 "cells": [
  {
   "cell_type": "markdown",
   "metadata": {},
   "source": [
    "# Lesson 11: So you want to be a hedge fund manager"
   ]
  },
  {
   "cell_type": "markdown",
   "metadata": {},
   "source": [
    "### Types of funds\n",
    "\n",
    "* __Exchange Traded Funds__\n",
    "    * Has 3/4 letters\n",
    "    * Buy/Sell like stocks\n",
    "    * Baskets of stocks\n",
    "    * Transparent and are very liquid (easy to trade)\n",
    "\n",
    "* __Mutual Funds__\n",
    "    * Usually has 5 letters\n",
    "    * Buy/Sell at EOD\n",
    "    * Quaterly disclosure\n",
    "    * Less Transparent\n",
    "\n",
    "* __Hedge Funds__\n",
    "    * Buy/Sell by agreement (secret)\n",
    "    * Hard to exit a hedge fund\n",
    "    * No disclosure about what they are holding\n",
    "    * Not transparent"
   ]
  },
  {
   "cell_type": "markdown",
   "metadata": {},
   "source": [
    "__AUM__:  *Assets Under Management* is the total amount of money being managed by the fund.\n",
    "\n",
    "### How are these fund managers compensated?\n",
    "\n",
    "* ETFs\n",
    "    * Expense ratio 0.01% to 1.00% (fraction of AUM)\n",
    "* Mutual Funds\n",
    "    * Expense ratio 0.5% to 3%\n",
    "* Hedge Funds\n",
    "    * Two and Twenty\n",
    "        * 2% of AUM and 20% of profit\n",
    "    * Now-a-days they charge a little less\n",
    "    * A very few charge even more"
   ]
  },
  {
   "cell_type": "markdown",
   "metadata": {},
   "source": [
    "### How hedge funds attract investors?\n",
    "\n",
    "* Who?\n",
    "    * Individuals\n",
    "        * Wealthy folks\n",
    "    * Institutions\n",
    "        * Large retirement foundations\n",
    "        * University foundations\n",
    "    * Funds of funds\n",
    "        * grouping of money\n",
    "        \n",
    "* Why?\n",
    "    * Track record\n",
    "    * Simulation/Back test our strategy\n",
    "    * Good portfolio fit for the investors"
   ]
  },
  {
   "cell_type": "markdown",
   "metadata": {},
   "source": [
    "### Hedge fund goals and metrics\n",
    "\n",
    "* __Goals__\n",
    "    * Beat a benchmark\n",
    "        * Ex: Beat the SP500 index\n",
    "    * Absolute return\n",
    "        * Positive return no matter what\n",
    "            * __Long__ Positive bets in funds going up \n",
    "            * __Short__ Negative bets in funds going down\n",
    "            \n",
    "* __Metrics__\n",
    "    * Cumulative return\n",
    "    * Volatility\n",
    "        * Standard deviation\n",
    "    * Risk/Reward\n",
    "        * Sharpe Ratio"
   ]
  },
  {
   "cell_type": "markdown",
   "metadata": {},
   "source": [
    "# Lesson 12: Market Mechanics"
   ]
  },
  {
   "cell_type": "markdown",
   "metadata": {},
   "source": [
    "### What's an order?\n",
    "\n",
    "* Buy or Sell?\n",
    "* Symbol of the stock\n",
    "* #shares\n",
    "* Limit Order or Market Order\n",
    "    * Limit is playing safe\n",
    "    * Market order no price spec required\n",
    "* Examples\n",
    "    * BUY, IBM, 100, LIMIT, 99.95\n",
    "    * SELl, GOOG, 150, MARKET\n",
    "\n",
    "### The order book\n",
    "\n",
    "* Keeps track of sell, buy orders\n",
    "* Allots the buyers to sellers of their price req match\n",
    "* If no match, appends into the book\n",
    "\n",
    "### Example of order book in operation\n",
    "\n",
    "| __BID/ASK__ | __PRICE__ | __SIZE__ |\n",
    "|:---------:|:-------:|:------:|\n",
    "|ASK|100.10|100|\n",
    "|ASK|100.05|500|\n",
    "|ASK|100.00|1000|\n",
    "|BID|99.95|100|\n",
    "|BID|99.90|50|\n",
    "|BID|99.85|50|\n",
    "[Book at the beginning]\n",
    "\n",
    "1. Order Buy,100, Market\n",
    "    * 100 shares from 1000 shares cut & **Price = 100$**\n",
    "\n",
    "\n",
    "| __BID/ASK__ | __PRICE__ | __SIZE__ |\n",
    "|:---------:|:-------:|:------:|\n",
    "|ASK|100.10|100|\n",
    "|ASK|100.05|500|\n",
    "|ASK|100.00|__900__|\n",
    "|BID|99.95|100|\n",
    "|BID|99.90|50|\n",
    "|BID|99.85|50|\n",
    "[Book after order 1]\n",
    "\n",
    "\n",
    "2. Order Buy, 100, Limit, 100.02\n",
    "    * 100 shares from 900 are deducted & **Price = 100 $**\n",
    "  \n",
    "  \n",
    "| __BID/ASK__ | __PRICE__ | __SIZE__ |\n",
    "|:---------:|:-------:|:------:|\n",
    "|ASK|100.10|100|\n",
    "|ASK|100.05|500|\n",
    "|ASK|100.00|__800__|\n",
    "|BID|99.95|100|\n",
    "|BID|99.90|50|\n",
    "|BID|99.85|50|\n",
    "[Book after order 2]\n",
    "\n",
    "3. Order Sell, 175, Market\n",
    "    * 100, 50, 25 will be deducted from the three bids respectively\n",
    "    * Executed price is average of these 175, **99.66$**\n",
    "\n",
    "\n",
    "| __BID/ASK__ | __PRICE__ | __SIZE__ |\n",
    "|:---------:|:-------:|:------:|\n",
    "|ASK|100.10|100|\n",
    "|ASK|100.05|500|\n",
    "|ASK|100.00|800|\n",
    "|BID|99.95|**0**|\n",
    "|BID|99.90|**0**|\n",
    "|BID|99.85|**25**|\n",
    "[Book after order 3]\n",
    "\n",
    "4. Because of the selling pressure being higher than buying pressure, the prices will likely go down"
   ]
  },
  {
   "cell_type": "markdown",
   "metadata": {},
   "source": [
    "### How Hedge funds explot market mechanics\n",
    "\n",
    "* HF will buy and sell you the stock by the time the order you placed reached stock exchange because of the delay in 10-20 ms\n",
    "* **Geographic arbitrage** HF have multiple locations like NY, London. If the same stock has different prices in these places, HF will buy in the lower price city and sell in higher price city. They made profits ez"
   ]
  },
  {
   "cell_type": "markdown",
   "metadata": {},
   "source": [
    "### Additional order types\n",
    "\n",
    "* Exchanges\n",
    "    * Buy and Sell\n",
    "    * Market and Limit\n",
    "    \n",
    "* Broker\n",
    "    * Stop Loss\n",
    "    * Stop Gain\n",
    "    * Trailing Stop\n",
    "    * **Sell Short**\n",
    "    \n",
    "### Mechanics of short selling\n",
    "\n",
    "* Sell without owning the stock yet\n",
    "* Sell at higher price, buy&exit at lower price\n",
    "* Hence you make profit\n",
    "\n",
    "### What can go wrong in short selling?\n",
    "\n",
    "* If prices go after short selling, you make loss when you exit the position"
   ]
  },
  {
   "cell_type": "markdown",
   "metadata": {},
   "source": [
    "# Lesson 13: What is a company's worth?"
   ]
  },
  {
   "cell_type": "markdown",
   "metadata": {},
   "source": [
    "* True value of company\n",
    "* Stock price goes above true value, sell\n",
    "* Stock price goes below true value, buy"
   ]
  },
  {
   "cell_type": "markdown",
   "metadata": {},
   "source": [
    "### Ways to estimate worth\n",
    "\n",
    "**Intrinsic Value**  \n",
    "Value of the company estimated by dividends\n",
    "\n",
    "**Book value**  \n",
    "Value of the assets the company owns  \n",
    "Ex: Factories etc\n",
    "\n",
    "**Market Cap**  \n",
    "Value of the stock and number of outstanding stocks  \n",
    "\n",
    "### The value of a future dollar\n",
    "Present Value$~=~\\frac{Future~Value}{(1+Interest~Rate)^{Years}}$"
   ]
  },
  {
   "cell_type": "markdown",
   "metadata": {},
   "source": [
    "**Intrinsic Value** $=~\\sum\\frac{Future~Value}{(1+Interest~Rate)^{i}}$  \n",
    "\n",
    "$~~~~~~~~~~~~~~~~~~~~~~= \\frac{Future~Value*(1+Interest~Rate)}{Interest~Rate}$  \n",
    "\n",
    "$~~~~~~~~~~~~~~~~~~~~~~= \\frac{Future~Value}{Discount~Rate}$\n",
    "\n",
    "**Book Value** = Total value of the assets minus intangible assets and liabilities\n",
    "\n",
    "**Market Capitalization** = #shares * price"
   ]
  },
  {
   "cell_type": "markdown",
   "metadata": {},
   "source": [
    "# Lesson 14: Capital Assets Pricing Model (CAPM)"
   ]
  },
  {
   "cell_type": "markdown",
   "metadata": {},
   "source": [
    "### Portfolio\n",
    "\n",
    "* $r_{s}$, $w_{s}$ are returns, weights of each stock in portfolio\n",
    "* Return of portfolio $r_{p}~=~\\sum r_{s}*w_{s}$\n",
    "* $\\sum abs(w_{s})~=~1$"
   ]
  },
  {
   "cell_type": "markdown",
   "metadata": {},
   "source": [
    "### Market Portfolio\n",
    "\n",
    "* Every country has index of stocks\n",
    "* Weight of each stock in the index is $w_{i}~=~Market~Cap_{i}/\\sum Market~Cap_{j}$\n",
    "* SP500 is a market portfolio of 500 stocks"
   ]
  },
  {
   "cell_type": "markdown",
   "metadata": {},
   "source": [
    "### CAPM Equation\n",
    "$r_{i}(t)=\\beta_{i}*r_{m}(t)+\\alpha_{i}(t)$\n",
    "* Return of markets: $r_{m}(t)$\n",
    "* Return of stock i: $r_{i}(t)$\n",
    "* Significant portion of return of the stock is from the growth of market\n",
    "* Most stocks have $\\beta$ as 1\n",
    "* CAPM says $E[\\alpha_{i}(t)]=0$; Its essentially a random variable\n",
    "* $\\beta,~\\alpha$ are **slope, intercept** of line fitted between stock, market daily returns' scatter"
   ]
  },
  {
   "cell_type": "markdown",
   "metadata": {},
   "source": [
    "### CAPM vs Active management\n",
    "\n",
    "* passive: buy index portfolio and hold\n",
    "* active: pick stocks with different weights compared to index\n",
    "    * Some have underweight\n",
    "    * Some have overweight\n",
    "* CAPM says $E[\\alpha_{i}(t)]=0$; $\\alpha_{i}(t)$ is fully random\n",
    "* Active managers believe we can predict alpha and its not fully random"
   ]
  },
  {
   "cell_type": "markdown",
   "metadata": {},
   "source": [
    "### CAPM for portfolios\n",
    "\n",
    "* Return of portfolio $r_{p}~=~\\sum w_{i}*(\\beta_{i}*r_{m}(t)+\\alpha_{i}(t))$\n",
    "* Beta of the portfolio is $\\beta_{p}=\\sum w_{i}*\\beta_{i}$\n",
    "* $r_{p}(t)=\\beta_{p}*r_{m}(t)+\\sum w_{i}*\\alpha_{i}(t)$\n",
    "    * CAPM would say alpha term is simply a random number with mean zero $\\alpha_{p}(t)$\n",
    "    * Active managers would use the summation formulation"
   ]
  },
  {
   "cell_type": "markdown",
   "metadata": {},
   "source": [
    "### Arbitrage Pricing Theory\n",
    "\n",
    "* Beta of market can be broken down into betas of different fields like fincance, tech, manufacturing etc"
   ]
  },
  {
   "cell_type": "markdown",
   "metadata": {},
   "source": [
    "# Lesson 15: How Hedge funds use the CAPM"
   ]
  },
  {
   "cell_type": "markdown",
   "metadata": {},
   "source": [
    "### Two stock CAPM math\n",
    "\n",
    "* $r_p = (w_a \\beta_a + w_b \\beta_b)*r_m + w_a \\alpha_a + w_b \\alpha_b$\n",
    "* If we make net beta as zero, we equate to zero market risk in case of long short investing\n",
    "\n",
    "### Summary\n",
    "\n",
    "* Assuming \n",
    "    * We forecasted alpha\n",
    "    * We got beta pf the stock\n",
    "    \n",
    "* CAPM enables\n",
    "    * minimize market risk by making beta of portfolio to be zero\n",
    "    * allocate weighst to stocks ion the portfolio such that above happens "
   ]
  },
  {
   "cell_type": "markdown",
   "metadata": {},
   "source": [
    "# Lesson 16: Technical Analysis"
   ]
  },
  {
   "cell_type": "markdown",
   "metadata": {},
   "source": [
    "### Characteristics of TA\n",
    "* Uses price and volume only\n",
    "* Compute indicators by statistics on data\n",
    "* There is information in price"
   ]
  },
  {
   "cell_type": "markdown",
   "metadata": {},
   "source": [
    "### When is TA effective\n",
    "* Individual indicators are weak\n",
    "* Combining multiple indicators makes predictions stronger\n",
    "* Look for contrasts (Stock vs Market)\n",
    "* Works better for shorter time periods than longer time periods\n",
    "* Fundamental factors have higher value when horizon is longer"
   ]
  },
  {
   "cell_type": "markdown",
   "metadata": {},
   "source": [
    "### Momentum\n",
    "\n",
    "* n-day momentum, $momentum_{t} = \\frac{price_{t}}{price_{t-n}}-1$\n",
    "* -0.5 to +0.5"
   ]
  },
  {
   "cell_type": "markdown",
   "metadata": {},
   "source": [
    "### Simple moving average\n",
    "\n",
    "* n-day SMA, IndicatorSMA$_t = \\frac{price_{t}}{\\frac{\\sum price_t}{n}}-1$\n",
    "* -0.5 to +0.5\n",
    "* Could be used as proxy for underlying value especially with window is large\n",
    "    * If price above the average, it might indicate the stock is overpriced and bound to fall\n",
    "    * If stock is below average, it might indicate the stock is undervalued and bound to rise\n",
    "* The points where moving average curve and price curve intesects could be used as trading signals\n"
   ]
  },
  {
   "cell_type": "markdown",
   "metadata": {},
   "source": [
    "### Bollinger Bands\n",
    "\n",
    "* have moving average and moving standrd deviation curves drawn\n",
    "    * When price is going to fall inside the band at +2$\\sigma$, it could be a sell signal\n",
    "    * When price is goign to rise inside the band at -2$\\sigma$, it could be a buy signal\n",
    "* -1 to +1"
   ]
  },
  {
   "cell_type": "markdown",
   "metadata": {},
   "source": [
    "### Normalization\n",
    "\n",
    "* Technical indicators ahve to normalized to allot equal importance to each indicators"
   ]
  },
  {
   "cell_type": "markdown",
   "metadata": {},
   "source": [
    "# Lesson 17: Dealing with Data"
   ]
  },
  {
   "cell_type": "markdown",
   "metadata": {},
   "source": [
    "* data is sampled at lowest resolution called tick which indicates a successful transaction (only when buy and sell match)\n",
    "\n",
    "* **Stock Split** happens usually when the stock becomes very high price (n:1)\n",
    "    * creates issue when we feed in data to our algorithm\n",
    "    * adjusted close will adjust the prices by back tracking\n",
    "        * At the latest day, actual price and adjusted close match\n",
    "\n",
    "* **Dividends** comapny payouts\n",
    "    * Adjusted close will reduce the price on the day previous to dividend pay by an amount of dividend\n",
    "        * At the latest day, actual price and adjusted close match\n",
    "        \n",
    "### Survivorship Bias\n",
    "\n",
    "* Use survivor bias free data"
   ]
  },
  {
   "cell_type": "markdown",
   "metadata": {},
   "source": [
    "# Lesson 18: Efficient Market Hypothesis"
   ]
  },
  {
   "cell_type": "markdown",
   "metadata": {},
   "source": [
    "### Assumptions\n",
    "\n",
    "* Large number of investors\n",
    "* New info arrives randomly\n",
    "* prices adjust quickly\n",
    "* Proces reflect all available information\n",
    "\n",
    "### Three forms of EMH\n",
    "\n",
    "* **Weak** Future prices cannot be predicted by historical prices\n",
    "* **Semi-Strong** Prices adjust rapidly to new public info\n",
    "* **Strong** Prices reflect all information public and private\n",
    "\n",
    "### Not considered to be true"
   ]
  },
  {
   "cell_type": "code",
   "execution_count": null,
   "metadata": {},
   "outputs": [],
   "source": []
  }
 ],
 "metadata": {
  "kernelspec": {
   "display_name": "Python 3",
   "language": "python",
   "name": "python3"
  },
  "language_info": {
   "codemirror_mode": {
    "name": "ipython",
    "version": 3
   },
   "file_extension": ".py",
   "mimetype": "text/x-python",
   "name": "python",
   "nbconvert_exporter": "python",
   "pygments_lexer": "ipython3",
   "version": "3.5.2"
  }
 },
 "nbformat": 4,
 "nbformat_minor": 2
}
