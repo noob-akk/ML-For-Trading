{
 "cells": [
  {
   "cell_type": "code",
   "execution_count": 1,
   "metadata": {},
   "outputs": [],
   "source": [
    "import json"
   ]
  },
  {
   "cell_type": "code",
   "execution_count": 2,
   "metadata": {},
   "outputs": [
    {
     "name": "stdout",
     "output_type": "stream",
     "text": [
      "Manipulating Financial Data in Python-[01,03].ipynb\n",
      "Manipulating Financial Data in Python-[04,09].ipynb\n",
      "Computational Investing-[01,10].ipynb\n"
     ]
    }
   ],
   "source": [
    "def extract_markdown(fname):\n",
    "    lines = open(fname, \"r\").readlines()\n",
    "    st = []\n",
    "    ed = []\n",
    "    search = False\n",
    "    for i,line in enumerate(lines):\n",
    "        if '\"cell_type\": \"markdown\"' in line:\n",
    "            st += [i-1]\n",
    "            search = True\n",
    "        if search:\n",
    "            if ('}' in line) and (len(line)<10) :\n",
    "                search = False\n",
    "                ed += [i]\n",
    "    out = \"\"\n",
    "    for s,e in zip(st,ed):\n",
    "        out += \"\\n\\n\"\n",
    "        for lin in lines[s+4:e-1]:\n",
    "            temp = lin.split('\"')[1]\n",
    "            if temp.startswith('#'):\n",
    "                out += '\\n'\n",
    "            out += temp\n",
    "#             out += \"   \"\n",
    "    out.replace('\\\\n', '\\n')\n",
    "    \n",
    "    return out\n",
    "\n",
    "fnames = [\"Manipulating Financial Data in Python-[01,03].ipynb\", \n",
    "          \"Manipulating Financial Data in Python-[04,09].ipynb\",\n",
    "          \"Computational Investing-[01,10].ipynb\"]\n",
    "\n",
    "out = \"\"\n",
    "\n",
    "for fname in fnames:\n",
    "    print(fname)\n",
    "    out += extract_markdown(fname)\n",
    "\n",
    "f = open(\"notes.md\", \"w\")\n",
    "f.write(out.replace('\\\\n', '\\n'))\n",
    "f.close()"
   ]
  }
 ],
 "metadata": {
  "kernelspec": {
   "display_name": "Python 3",
   "language": "python",
   "name": "python3"
  },
  "language_info": {
   "codemirror_mode": {
    "name": "ipython",
    "version": 3
   },
   "file_extension": ".py",
   "mimetype": "text/x-python",
   "name": "python",
   "nbconvert_exporter": "python",
   "pygments_lexer": "ipython3",
   "version": "3.5.2"
  }
 },
 "nbformat": 4,
 "nbformat_minor": 2
}
