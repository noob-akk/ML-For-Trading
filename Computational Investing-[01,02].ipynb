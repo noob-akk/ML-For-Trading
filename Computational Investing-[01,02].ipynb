{
 "cells": [
  {
   "cell_type": "markdown",
   "metadata": {},
   "source": [
    "# Lesson 11: So you want to be a hedge fund manager"
   ]
  },
  {
   "cell_type": "markdown",
   "metadata": {},
   "source": [
    "### Types of funds\n",
    "\n",
    "* __Exchange Traded Funds__\n",
    "    * Has 3/4 letters\n",
    "    * Buy/Sell like stocks\n",
    "    * Baskets of stocks\n",
    "    * Transparent and are very liquid (easy to trade)\n",
    "\n",
    "* __Mutual Funds__\n",
    "    * Usually has 5 letters\n",
    "    * Buy/Sell at EOD\n",
    "    * Quaterly disclosure\n",
    "    * Less Transparent\n",
    "\n",
    "* __Hedge Funds__\n",
    "    * Buy/Sell by agreement (secret)\n",
    "    * Hard to exit a hedge fund\n",
    "    * No disclosure about what they are holding\n",
    "    * Not transparent"
   ]
  },
  {
   "cell_type": "markdown",
   "metadata": {},
   "source": [
    "__AUM__:  *Assets Under Management* is the total amount of money being managed by the fund.\n",
    "\n",
    "### How are these fund managers compensated?\n",
    "\n",
    "* ETFs\n",
    "    * Expense ratio 0.01% to 1.00% (fraction of AUM)\n",
    "* Mutual Funds\n",
    "    * Expense ratio 0.5% to 3%\n",
    "* Hedge Funds\n",
    "    * Two and Twenty\n",
    "        * 2% of AUM and 20% of profit\n",
    "    * Now-a-days they charge a little less\n",
    "    * A very few charge even more"
   ]
  },
  {
   "cell_type": "markdown",
   "metadata": {},
   "source": [
    "### How hedge funds attract investors?\n",
    "\n",
    "* Who?\n",
    "    * Individuals\n",
    "        * Wealthy folks\n",
    "    * Institutions\n",
    "        * Large retirement foundations\n",
    "        * University foundations\n",
    "    * Funds of funds\n",
    "        * grouping of money\n",
    "        \n",
    "* Why?\n",
    "    * Track record\n",
    "    * Simulation/Back test our strategy\n",
    "    * Good portfolio fit for the investors"
   ]
  },
  {
   "cell_type": "markdown",
   "metadata": {},
   "source": [
    "### Hedge fund goals and metrics\n",
    "\n",
    "* __Goals__\n",
    "    * Beat a benchmark\n",
    "        * Ex: Beat the SP500 index\n",
    "    * Absolute return\n",
    "        * Positive return no matter what\n",
    "            * __Long__ Positive bets in funds going up \n",
    "            * __Short__ Negative bets in funds going down\n",
    "            \n",
    "* __Metrics__\n",
    "    * Cumulative return\n",
    "    * Volatility\n",
    "        * Standard deviation\n",
    "    * Risk/Reward\n",
    "        * Sharpe Ratio"
   ]
  },
  {
   "cell_type": "markdown",
   "metadata": {},
   "source": [
    "# Lesson 12: Market Mechanics"
   ]
  },
  {
   "cell_type": "markdown",
   "metadata": {},
   "source": [
    "### What's an order?\n",
    "\n",
    "* Buy or Sell?\n",
    "* Symbol of the stock\n",
    "* #shares\n",
    "* Limit Order or Market Order\n",
    "    * Limit is playing safe\n",
    "    * Market order no price spec required\n",
    "* Examples\n",
    "    * BUY, IBM, 100, LIMIT, 99.95\n",
    "    * SELl, GOOG, 150, MARKET\n",
    "\n",
    "### The order book\n",
    "\n",
    "* Keeps track of sell, buy orders\n",
    "* Allots the buyers to sellers of their price req match\n",
    "* If no match, appends into the book\n",
    "\n",
    "### Example of order book in operation\n",
    "\n",
    "| __BID/ASK__ | __PRICE__ | __SIZE__ |\n",
    "|:---------:|:-------:|:------:|\n",
    "|ASK|100.10|100|\n",
    "|ASK|100.05|500|\n",
    "|ASK|100.00|1000|\n",
    "|BID|99.95|100|\n",
    "|BID|99.90|50|\n",
    "|BID|99.85|50|\n",
    "[Book at the beginning]\n",
    "\n",
    "1. Order Buy,100, Market\n",
    "    * 100 shares from 1000 shares cut & **Price = 100$**\n",
    "\n",
    "\n",
    "| __BID/ASK__ | __PRICE__ | __SIZE__ |\n",
    "|:---------:|:-------:|:------:|\n",
    "|ASK|100.10|100|\n",
    "|ASK|100.05|500|\n",
    "|ASK|100.00|__900__|\n",
    "|BID|99.95|100|\n",
    "|BID|99.90|50|\n",
    "|BID|99.85|50|\n",
    "[Book after order 1]\n",
    "\n",
    "\n",
    "2. Order Buy, 100, Limit, 100.02\n",
    "    * 100 shares from 900 are deducted & **Price = 100 $**\n",
    "  \n",
    "  \n",
    "| __BID/ASK__ | __PRICE__ | __SIZE__ |\n",
    "|:---------:|:-------:|:------:|\n",
    "|ASK|100.10|100|\n",
    "|ASK|100.05|500|\n",
    "|ASK|100.00|__800__|\n",
    "|BID|99.95|100|\n",
    "|BID|99.90|50|\n",
    "|BID|99.85|50|\n",
    "[Book after order 2]\n",
    "\n",
    "3. Order Sell, 175, Market\n",
    "    * 100, 50, 25 will be deducted from the three bids respectively\n",
    "    * Executed price is average of these 175, **99.66$**\n",
    "\n",
    "\n",
    "| __BID/ASK__ | __PRICE__ | __SIZE__ |\n",
    "|:---------:|:-------:|:------:|\n",
    "|ASK|100.10|100|\n",
    "|ASK|100.05|500|\n",
    "|ASK|100.00|800|\n",
    "|BID|99.95|**0**|\n",
    "|BID|99.90|**0**|\n",
    "|BID|99.85|**25**|\n",
    "[Book after order 3]\n",
    "\n",
    "4. Because of the selling pressure being higher than buying pressure, the prices will likely go down"
   ]
  },
  {
   "cell_type": "markdown",
   "metadata": {},
   "source": [
    "### How Hedge funds explot market mechanics\n",
    "\n",
    "* HF will buy and sell you the stock by the time the order you placed reached stock exchange because of the delay in 10-20 ms\n",
    "* **Geographic arbitrage** HF have multiple locations like NY, London. If the same stock has different prices in these places, HF will buy in the lower price city and sell in higher price city. They made profits ez"
   ]
  },
  {
   "cell_type": "markdown",
   "metadata": {},
   "source": [
    "### Additional order types\n",
    "\n",
    "* Exchanges\n",
    "    * Buy and Sell\n",
    "    * Market and Limit\n",
    "    \n",
    "* Broker\n",
    "    * Stop Loss\n",
    "    * Stop Gain\n",
    "    * Trailing Stop\n",
    "    * **Sell Short**\n",
    "    \n",
    "### Mechanics of short selling\n",
    "\n",
    "* Sell without owning the stock yet\n",
    "* Sell at higher price, buy&exit at lower price\n",
    "* Hence you make profit\n",
    "\n",
    "### What can go wrong in short selling?\n",
    "\n",
    "* If prices go after short selling, you make loss when you exit the position"
   ]
  },
  {
   "cell_type": "markdown",
   "metadata": {},
   "source": []
  },
  {
   "cell_type": "code",
   "execution_count": null,
   "metadata": {},
   "outputs": [],
   "source": []
  }
 ],
 "metadata": {
  "kernelspec": {
   "display_name": "Python 3",
   "language": "python",
   "name": "python3"
  },
  "language_info": {
   "codemirror_mode": {
    "name": "ipython",
    "version": 3
   },
   "file_extension": ".py",
   "mimetype": "text/x-python",
   "name": "python",
   "nbconvert_exporter": "python",
   "pygments_lexer": "ipython3",
   "version": "3.5.2"
  }
 },
 "nbformat": 4,
 "nbformat_minor": 2
}
