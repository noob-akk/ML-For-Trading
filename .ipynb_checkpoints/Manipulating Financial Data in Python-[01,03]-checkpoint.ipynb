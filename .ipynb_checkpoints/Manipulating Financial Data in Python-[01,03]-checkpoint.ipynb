{
 "cells": [
  {
   "cell_type": "code",
   "execution_count": 2,
   "metadata": {
    "scrolled": true
   },
   "outputs": [],
   "source": [
    "import pandas_datareader as pdr\n",
    "import pandas as pd\n",
    "import datetime \n",
    "import matplotlib.pyplot as plt"
   ]
  },
  {
   "cell_type": "markdown",
   "metadata": {},
   "source": [
    "# Lesson 2: Reading and plotting stock data"
   ]
  },
  {
   "cell_type": "markdown",
   "metadata": {},
   "source": [
    "## Stock Header explaination\n",
    " \n",
    "* **Open**: opening price of the stock  \n",
    "* **High**: HIghest price of the stock during the day  \n",
    "* **Low**: Lowest price of the stock during the day  \n",
    "* **Close**: Closing price of the stock at the end of the day  \n",
    "* **Volume**: Total number of stocks traded during the day  \n",
    "* **Adj Close**: Adjusted close is the adjusted value of close for dividend splits etc  \n",
    "\n",
    "## Pandas Dataframe\n",
    "\n",
    "* **NaN** is not a number or does not exist  \n",
    "* Pandas can also handle df's in a 3D-way\n",
    "* `pd.read_csv()` reads the csv file\n",
    "* `pd.head(n)` returns the first n rows of df (default = 5)\n",
    "* Similarly, `pd.tail(n)` returns the last n rows\n",
    "* To get data from rows n1 to n2, use `df[n1,n2+1]`\n",
    "* Mean. Max, Min are callable functions like `df['Volume'].max()`"
   ]
  },
  {
   "cell_type": "code",
   "execution_count": 9,
   "metadata": {},
   "outputs": [
    {
     "data": {
      "image/png": "[encoded data removed]",
      "text/plain": [
       "<Figure size 432x288 with 1 Axes>"
      ]
     },
     "metadata": {
      "needs_background": "light"
     },
     "output_type": "display_data"
    }
   ],
   "source": [
    "def test_run():\n",
    "    for symbol in ['IBM']:\n",
    "#         print(\"Max closing price of {} is\".format(symbol), get_max_close(symbol))\n",
    "#         print(\"Mean Volume of {} is\".format(symbol), get_mean_volume(symbol))\n",
    "        plot_two_values(symbol, 'Close', 'Adj Close')\n",
    "    return\n",
    "\n",
    "def get_max_close(symbol):\n",
    "    df = pd.read_csv(\"./data/{}.csv\".format(symbol))\n",
    "    return df['Close'].max()\n",
    "\n",
    "def get_mean_volume(symbol):\n",
    "    df = pd.read_csv(\"./data/{}.csv\".format(symbol))\n",
    "    return df['Volume'].mean()\n",
    "\n",
    "def plot_two_values(stock, symbol1, symbol2):\n",
    "    df = pd.read_csv(\"./data/{}.csv\".format(stock))\n",
    "    df[[symbol1, symbol2]].plot()\n",
    "    plt.show()\n",
    "    return\n",
    "\n",
    "test_run()"
   ]
  },
  {
   "cell_type": "markdown",
   "metadata": {},
   "source": [
    "# Lesson 3: Working with multiple stocks"
   ]
  },
  {
   "cell_type": "markdown",
   "metadata": {},
   "source": [
    "## Problems to solve\n",
    "\n",
    "* Date Ranges\n",
    "* Multiple stocks\n",
    "* Align dates\n",
    "* Proper Date order"
   ]
  },
  {
   "cell_type": "markdown",
   "metadata": {},
   "source": [
    "## Building DataFrame\n",
    "\n",
    "* `join` you join the columns with intersection of indexes\n",
    "* `parse_dates=True` will parse trhe dates into date objects\n",
    "* `usecols` param can be used to define what colums to keep in the dataset\n",
    "* `index_col` param can be used for defining the index column in df\n",
    "* `Pandas.DataFrame.dropna()` will drop all the rows with `NaN` value\n",
    "* `Pandas.DataFrame.rename()` to rename a specific column in the dataframe\n",
    "* `Pandas.DataFrame.dropna(subset=[])` : subset can be used to direct which columsn to be checked for na and then to be dropped"
   ]
  },
  {
   "cell_type": "code",
   "execution_count": 18,
   "metadata": {
    "scrolled": true
   },
   "outputs": [
    {
     "name": "stdout",
     "output_type": "stream",
     "text": [
      "            Adj Close\n",
      "2010-01-22  88.892502\n",
      "2010-01-25  89.348351\n",
      "2010-01-26  88.973915\n"
     ]
    }
   ],
   "source": [
    "start_date = '2010-01-22'\n",
    "end_date = '2010-01-26'\n",
    "\n",
    "dates = pd.date_range(start_date, end_date)\n",
    "\n",
    "df1 = pd.DataFrame(index=dates)\n",
    "\n",
    "dfSPY = pd.read_csv(\"./data/SPY.csv\",\n",
    "                    index_col=\"Date\",\n",
    "                   parse_dates = True,\n",
    "                   usecols=['Date', 'Adj Close'],\n",
    "                   na_values=['nan'])\n",
    "\n",
    "# print(dfSPY.head(2))\n",
    "\n",
    "\n",
    "#Inner Join\n",
    "# df1 = df1.join(dfSPY)\n",
    "# df1 = df1.dropna()\n",
    "\n",
    "#Inner join function in pandas\n",
    "df1 = df1.join(dfSPY, how='inner')\n",
    "print(df1)"
   ]
  },
  {
   "cell_type": "code",
   "execution_count": 25,
   "metadata": {
    "scrolled": true
   },
   "outputs": [
    {
     "name": "stdout",
     "output_type": "stream",
     "text": [
      "                 GOOG        IBM        GLD\n",
      "2010-01-22  88.892502  88.892502  88.892502\n",
      "2010-01-25  89.348351  89.348351  89.348351\n",
      "2010-01-26  88.973915  88.973915  88.973915\n"
     ]
    }
   ],
   "source": [
    "symbols = ['GOOG', 'IBM', 'GLD']\n",
    "df1 = pd.DataFrame(index=dates)\n",
    "for symbol in symbols:\n",
    "    df_temp = pd.read_csv(\"./data/SPY.csv\",\n",
    "                        index_col=\"Date\",\n",
    "                       parse_dates = True,\n",
    "                       usecols=['Date', 'Adj Close'],\n",
    "                       na_values=['nan'])\n",
    "    df_temp = df_temp.rename(columns={'Adj Close': symbol})\n",
    "    df1 = df1.join(df_temp, how='inner')\n",
    "    \n",
    "print(df1)"
   ]
  },
  {
   "cell_type": "code",
   "execution_count": 32,
   "metadata": {},
   "outputs": [
    {
     "data": {
      "text/html": [
       "<div>\n",
       "<style scoped>\n",
       "    .dataframe tbody tr th:only-of-type {\n",
       "        vertical-align: middle;\n",
       "    }\n",
       "\n",
       "    .dataframe tbody tr th {\n",
       "        vertical-align: top;\n",
       "    }\n",
       "\n",
       "    .dataframe thead th {\n",
       "        text-align: right;\n",
       "    }\n",
       "</style>\n",
       "<table border=\"1\" class=\"dataframe\">\n",
       "  <thead>\n",
       "    <tr style=\"text-align: right;\">\n",
       "      <th></th>\n",
       "      <th>SPY</th>\n",
       "      <th>GOOG</th>\n",
       "      <th>IBM</th>\n",
       "      <th>GLD</th>\n",
       "    </tr>\n",
       "  </thead>\n",
       "  <tbody>\n",
       "    <tr>\n",
       "      <th>2010-01-22</th>\n",
       "      <td>88.892502</td>\n",
       "      <td>273.978058</td>\n",
       "      <td>90.957825</td>\n",
       "      <td>107.169998</td>\n",
       "    </tr>\n",
       "    <tr>\n",
       "      <th>2010-01-25</th>\n",
       "      <td>89.348351</td>\n",
       "      <td>268.991760</td>\n",
       "      <td>91.407166</td>\n",
       "      <td>107.480003</td>\n",
       "    </tr>\n",
       "    <tr>\n",
       "      <th>2010-01-26</th>\n",
       "      <td>88.973915</td>\n",
       "      <td>270.197235</td>\n",
       "      <td>91.139023</td>\n",
       "      <td>107.559998</td>\n",
       "    </tr>\n",
       "  </tbody>\n",
       "</table>\n",
       "</div>"
      ],
      "text/plain": [
       "                  SPY        GOOG        IBM         GLD\n",
       "2010-01-22  88.892502  273.978058  90.957825  107.169998\n",
       "2010-01-25  89.348351  268.991760  91.407166  107.480003\n",
       "2010-01-26  88.973915  270.197235  91.139023  107.559998"
      ]
     },
     "execution_count": 32,
     "metadata": {},
     "output_type": "execute_result"
    }
   ],
   "source": [
    "def get_data(symbols, dates):\n",
    "    df1 = pd.DataFrame(index=dates)\n",
    "    if 'SPY' not in symbols:  # add SPY for reference, if absent\n",
    "        symbols.insert(0, 'SPY')\n",
    "\n",
    "    for symbol in symbols:\n",
    "        # TODO: Read and join data for each symbol\n",
    "        df_temp = pd.read_csv(\"./data/{}.csv\".format(symbol), \n",
    "                              index_col=\"Date\", \n",
    "                              parse_dates=True, \n",
    "                              usecols=['Date', 'Adj Close'], \n",
    "                              na_values=['nan'])\n",
    "        df_temp = df_temp.rename(columns={'Adj Close':symbol})\n",
    "        df1 = df1.join(df_temp)\n",
    "        \n",
    "        if symbol == 'SPY':\n",
    "            df1  = df1.dropna(subset=[\"SPY\"])\n",
    "    return df1\n",
    "\n",
    "symbols = ['GOOG', 'IBM', 'GLD']\n",
    "start_date = '2010-01-22'\n",
    "end_date = '2010-01-26'\n",
    "\n",
    "dates = pd.date_range(start_date, end_date)\n",
    "\n",
    "df = get_data(symbols, dates)\n",
    "df"
   ]
  },
  {
   "cell_type": "markdown",
   "metadata": {},
   "source": [
    "## Slicing DataFrame\n",
    "\n",
    "* `df.loc`, `df.iloc` can be used for row splicing;loc for label based splicing, iloc is position based splicing\n",
    "* column splicing can be done by passing a list of columns inside `df[[x,y]]`"
   ]
  },
  {
   "cell_type": "code",
   "execution_count": 41,
   "metadata": {
    "scrolled": true
   },
   "outputs": [
    {
     "data": {
      "text/html": [
       "<div>\n",
       "<style scoped>\n",
       "    .dataframe tbody tr th:only-of-type {\n",
       "        vertical-align: middle;\n",
       "    }\n",
       "\n",
       "    .dataframe tbody tr th {\n",
       "        vertical-align: top;\n",
       "    }\n",
       "\n",
       "    .dataframe thead th {\n",
       "        text-align: right;\n",
       "    }\n",
       "</style>\n",
       "<table border=\"1\" class=\"dataframe\">\n",
       "  <thead>\n",
       "    <tr style=\"text-align: right;\">\n",
       "      <th></th>\n",
       "      <th>SPY</th>\n",
       "      <th>GOOG</th>\n",
       "      <th>IBM</th>\n",
       "      <th>GLD</th>\n",
       "    </tr>\n",
       "  </thead>\n",
       "  <tbody>\n",
       "    <tr>\n",
       "      <th>2010-01-04</th>\n",
       "      <td>92.246048</td>\n",
       "      <td>312.204773</td>\n",
       "      <td>95.994934</td>\n",
       "      <td>109.800003</td>\n",
       "    </tr>\n",
       "    <tr>\n",
       "      <th>2010-01-05</th>\n",
       "      <td>92.490204</td>\n",
       "      <td>310.829926</td>\n",
       "      <td>94.835304</td>\n",
       "      <td>109.699997</td>\n",
       "    </tr>\n",
       "    <tr>\n",
       "      <th>2010-01-06</th>\n",
       "      <td>92.555328</td>\n",
       "      <td>302.994293</td>\n",
       "      <td>94.219246</td>\n",
       "      <td>111.510002</td>\n",
       "    </tr>\n",
       "    <tr>\n",
       "      <th>2010-01-07</th>\n",
       "      <td>92.946060</td>\n",
       "      <td>295.940735</td>\n",
       "      <td>93.893105</td>\n",
       "      <td>110.820000</td>\n",
       "    </tr>\n",
       "    <tr>\n",
       "      <th>2010-01-08</th>\n",
       "      <td>93.255348</td>\n",
       "      <td>299.885956</td>\n",
       "      <td>94.835304</td>\n",
       "      <td>111.370003</td>\n",
       "    </tr>\n",
       "  </tbody>\n",
       "</table>\n",
       "</div>"
      ],
      "text/plain": [
       "                  SPY        GOOG        IBM         GLD\n",
       "2010-01-04  92.246048  312.204773  95.994934  109.800003\n",
       "2010-01-05  92.490204  310.829926  94.835304  109.699997\n",
       "2010-01-06  92.555328  302.994293  94.219246  111.510002\n",
       "2010-01-07  92.946060  295.940735  93.893105  110.820000\n",
       "2010-01-08  93.255348  299.885956  94.835304  111.370003"
      ]
     },
     "execution_count": 41,
     "metadata": {},
     "output_type": "execute_result"
    }
   ],
   "source": [
    "dates = pd.date_range('2010-01-01', '2010-12-31')\n",
    "df = get_data(symbols, dates)\n",
    "df.head()"
   ]
  },
  {
   "cell_type": "code",
   "execution_count": 46,
   "metadata": {},
   "outputs": [
    {
     "data": {
      "text/html": [
       "<div>\n",
       "<style scoped>\n",
       "    .dataframe tbody tr th:only-of-type {\n",
       "        vertical-align: middle;\n",
       "    }\n",
       "\n",
       "    .dataframe tbody tr th {\n",
       "        vertical-align: top;\n",
       "    }\n",
       "\n",
       "    .dataframe thead th {\n",
       "        text-align: right;\n",
       "    }\n",
       "</style>\n",
       "<table border=\"1\" class=\"dataframe\">\n",
       "  <thead>\n",
       "    <tr style=\"text-align: right;\">\n",
       "      <th></th>\n",
       "      <th>SPY</th>\n",
       "      <th>GOOG</th>\n",
       "      <th>IBM</th>\n",
       "      <th>GLD</th>\n",
       "    </tr>\n",
       "  </thead>\n",
       "  <tbody>\n",
       "    <tr>\n",
       "      <th>2010-01-04</th>\n",
       "      <td>92.246048</td>\n",
       "      <td>312.204773</td>\n",
       "      <td>95.994934</td>\n",
       "      <td>109.800003</td>\n",
       "    </tr>\n",
       "    <tr>\n",
       "      <th>2010-01-05</th>\n",
       "      <td>92.490204</td>\n",
       "      <td>310.829926</td>\n",
       "      <td>94.835304</td>\n",
       "      <td>109.699997</td>\n",
       "    </tr>\n",
       "    <tr>\n",
       "      <th>2010-01-06</th>\n",
       "      <td>92.555328</td>\n",
       "      <td>302.994293</td>\n",
       "      <td>94.219246</td>\n",
       "      <td>111.510002</td>\n",
       "    </tr>\n",
       "  </tbody>\n",
       "</table>\n",
       "</div>"
      ],
      "text/plain": [
       "                  SPY        GOOG        IBM         GLD\n",
       "2010-01-04  92.246048  312.204773  95.994934  109.800003\n",
       "2010-01-05  92.490204  310.829926  94.835304  109.699997\n",
       "2010-01-06  92.555328  302.994293  94.219246  111.510002"
      ]
     },
     "execution_count": 46,
     "metadata": {},
     "output_type": "execute_result"
    }
   ],
   "source": [
    "df.loc['2010-01-01':'2010-01-06']"
   ]
  },
  {
   "cell_type": "code",
   "execution_count": 45,
   "metadata": {},
   "outputs": [
    {
     "data": {
      "text/html": [
       "<div>\n",
       "<style scoped>\n",
       "    .dataframe tbody tr th:only-of-type {\n",
       "        vertical-align: middle;\n",
       "    }\n",
       "\n",
       "    .dataframe tbody tr th {\n",
       "        vertical-align: top;\n",
       "    }\n",
       "\n",
       "    .dataframe thead th {\n",
       "        text-align: right;\n",
       "    }\n",
       "</style>\n",
       "<table border=\"1\" class=\"dataframe\">\n",
       "  <thead>\n",
       "    <tr style=\"text-align: right;\">\n",
       "      <th></th>\n",
       "      <th>SPY</th>\n",
       "      <th>IBM</th>\n",
       "    </tr>\n",
       "  </thead>\n",
       "  <tbody>\n",
       "    <tr>\n",
       "      <th>2010-03-10</th>\n",
       "      <td>93.580917</td>\n",
       "      <td>91.451981</td>\n",
       "    </tr>\n",
       "    <tr>\n",
       "      <th>2010-03-11</th>\n",
       "      <td>93.971619</td>\n",
       "      <td>92.893440</td>\n",
       "    </tr>\n",
       "    <tr>\n",
       "      <th>2010-03-12</th>\n",
       "      <td>93.979767</td>\n",
       "      <td>93.140976</td>\n",
       "    </tr>\n",
       "    <tr>\n",
       "      <th>2010-03-15</th>\n",
       "      <td>94.004189</td>\n",
       "      <td>93.060898</td>\n",
       "    </tr>\n",
       "  </tbody>\n",
       "</table>\n",
       "</div>"
      ],
      "text/plain": [
       "                  SPY        IBM\n",
       "2010-03-10  93.580917  91.451981\n",
       "2010-03-11  93.971619  92.893440\n",
       "2010-03-12  93.979767  93.140976\n",
       "2010-03-15  94.004189  93.060898"
      ]
     },
     "execution_count": 45,
     "metadata": {},
     "output_type": "execute_result"
    }
   ],
   "source": [
    "df.loc['2010-03-10':'2010-03-15',['SPY', 'IBM']]"
   ]
  },
  {
   "cell_type": "code",
   "execution_count": 52,
   "metadata": {},
   "outputs": [
    {
     "data": {
      "image/png": "[encoded data removed]",
      "text/plain": [
       "<Figure size 432x288 with 1 Axes>"
      ]
     },
     "metadata": {
      "needs_background": "light"
     },
     "output_type": "display_data"
    }
   ],
   "source": [
    "def plot_data(df, title=\"Stock Prices\"):\n",
    "    ax = df.plot(title=title)\n",
    "#     ax.set_title(title)\n",
    "    ax.set_xlabel(\"Date\")\n",
    "    ax.set_ylabel(\"Price\")\n",
    "    plt.show()\n",
    "    return\n",
    "\n",
    "plot_data(df)"
   ]
  },
  {
   "cell_type": "code",
   "execution_count": 57,
   "metadata": {},
   "outputs": [
    {
     "data": {
      "image/png": "[encoded data removed]",
      "text/plain": [
       "<Figure size 432x288 with 1 Axes>"
      ]
     },
     "metadata": {
      "needs_background": "light"
     },
     "output_type": "display_data"
    }
   ],
   "source": [
    "def plot_selected(df, columns, start_index, end_index):\n",
    "    tdf = df.loc[start_index:end_index, columns]\n",
    "    plot_data(tdf,\n",
    "             title=\"Selected Stocks\")\n",
    "    return\n",
    "\n",
    "# Slice and plot\n",
    "plot_selected(df, ['SPY', 'IBM'], \n",
    "              '2010-03-01', '2010-04-01')"
   ]
  },
  {
   "cell_type": "markdown",
   "metadata": {},
   "source": [
    "### Normalize the data to compare multiple stocks"
   ]
  },
  {
   "cell_type": "code",
   "execution_count": 61,
   "metadata": {},
   "outputs": [
    {
     "data": {
      "text/plain": [
       "<matplotlib.axes._subplots.AxesSubplot at 0x7fdc39a10828>"
      ]
     },
     "execution_count": 61,
     "metadata": {},
     "output_type": "execute_result"
    },
    {
     "data": {
      "image/png": "[encoded data removed]",
      "text/plain": [
       "<Figure size 432x288 with 1 Axes>"
      ]
     },
     "metadata": {
      "needs_background": "light"
     },
     "output_type": "display_data"
    }
   ],
   "source": [
    "def normalize_data(df):\n",
    "    df = df/df.iloc[0]\n",
    "    return df\n",
    "\n",
    "normalize_data(df).plot()"
   ]
  },
  {
   "cell_type": "markdown",
   "metadata": {},
   "source": [
    "# Lesson 4: The power of Numpy"
   ]
  },
  {
   "cell_type": "markdown",
   "metadata": {},
   "source": [
    "### Intro\n",
    "\n",
    "* `np.empty(shape)` to generate empty array;But the array retains the memory values\n",
    "* `np.ones(shape)` to create ones' array\n",
    "* `np.random.random(shape)` to create uniformly random values in $[0,1)$\n",
    "* `np.random.normal(mean=0, std=1, shape)` for normal distribution\n",
    "* `np.random.randint(min, max, shape)` to generate random integer array"
   ]
  },
  {
   "cell_type": "code",
   "execution_count": 63,
   "metadata": {},
   "outputs": [
    {
     "name": "stdout",
     "output_type": "stream",
     "text": [
      "[[2 3 4]\n",
      " [2 3 6]]\n"
     ]
    }
   ],
   "source": [
    "import numpy as np\n",
    "\n",
    "x = np.array([(2,3,4), (2,3,6)])\n",
    "print(x)"
   ]
  },
  {
   "cell_type": "markdown",
   "metadata": {},
   "source": [
    "### Array attributes\n",
    "\n",
    "* `array.shape` = shape tuple \n",
    "* `array.size` = number of elems\n",
    "* `array.dtype`"
   ]
  },
  {
   "cell_type": "markdown",
   "metadata": {},
   "source": [
    "### Operations on ndarrays\n",
    "\n",
    "* `axis=0` for operations on that axis; `a.sum(axis=0)` would give sum of all the rows by maintaining the columns\n",
    "* `a.min(axis)`, `a.max(axis)`\n",
    "* `a.mean()`\n",
    "* `np.argmax()`\n",
    "* `a[i,j]`\n",
    "* `a[i,m:n:step]`\n",
    "* You can pass array of indices to sample as `a[idxs]` where `idx` is the array of indices you want to sample \n",
    "* boolean masks can be put on 2D arrrays and extract the elements under the mask by `a[condition]`\n",
    "* $*$ operator does element by element not matrix multiplication and similarly $/$ does elem division"
   ]
  },
  {
   "cell_type": "code",
   "execution_count": 73,
   "metadata": {},
   "outputs": [
    {
     "data": {
      "text/plain": [
       "7"
      ]
     },
     "execution_count": 73,
     "metadata": {},
     "output_type": "execute_result"
    }
   ],
   "source": [
    "np.argmax(a)"
   ]
  },
  {
   "cell_type": "code",
   "execution_count": 74,
   "metadata": {},
   "outputs": [
    {
     "data": {
      "text/plain": [
       "array([[1, 2, 3, 4],\n",
       "       [5, 6, 7, 8]])"
      ]
     },
     "execution_count": 74,
     "metadata": {},
     "output_type": "execute_result"
    }
   ],
   "source": [
    "a"
   ]
  },
  {
   "cell_type": "code",
   "execution_count": 85,
   "metadata": {},
   "outputs": [
    {
     "name": "stdout",
     "output_type": "stream",
     "text": [
      "0.4583694397922613\n"
     ]
    }
   ],
   "source": [
    "a = np.random.random((5,6))\n",
    "# idxs = np.array([1,3])\n",
    "\n",
    "print(a.mean())\n",
    "# print(a[idxs])"
   ]
  },
  {
   "cell_type": "code",
   "execution_count": 86,
   "metadata": {},
   "outputs": [
    {
     "data": {
      "text/plain": [
       "array([0.13710939, 0.25824244, 0.21556512, 0.07507623, 0.22412698,\n",
       "       0.36255122, 0.15520116, 0.07597185, 0.05992351, 0.10191513,\n",
       "       0.29165512, 0.01703992, 0.08888736, 0.28875222])"
      ]
     },
     "execution_count": 86,
     "metadata": {},
     "output_type": "execute_result"
    }
   ],
   "source": [
    "a[a<a.mean()]"
   ]
  },
  {
   "cell_type": "code",
   "execution_count": 87,
   "metadata": {},
   "outputs": [],
   "source": [
    "a[a<a.mean()] = a.mean()"
   ]
  },
  {
   "cell_type": "code",
   "execution_count": 88,
   "metadata": {},
   "outputs": [
    {
     "data": {
      "text/plain": [
       "array([[0.45836944, 0.51889313, 0.91176014, 0.45836944, 0.60089538,\n",
       "        0.76865815],\n",
       "       [0.45836944, 0.82063972, 0.45836944, 0.45836944, 0.45836944,\n",
       "        0.64624704],\n",
       "       [0.58657096, 0.45836944, 0.71889067, 0.45836944, 0.46399538,\n",
       "        0.45836944],\n",
       "       [0.90889973, 0.72154188, 0.94632523, 0.96425285, 0.45836944,\n",
       "        0.80397685],\n",
       "       [0.45836944, 0.45836944, 0.45836944, 0.55324436, 0.46427408,\n",
       "        0.45836944]])"
      ]
     },
     "execution_count": 88,
     "metadata": {},
     "output_type": "execute_result"
    }
   ],
   "source": [
    "a"
   ]
  },
  {
   "cell_type": "code",
   "execution_count": null,
   "metadata": {},
   "outputs": [],
   "source": []
  }
 ],
 "metadata": {
  "kernelspec": {
   "display_name": "Python 3",
   "language": "python",
   "name": "python3"
  },
  "language_info": {
   "codemirror_mode": {
    "name": "ipython",
    "version": 3
   },
   "file_extension": ".py",
   "mimetype": "text/x-python",
   "name": "python",
   "nbconvert_exporter": "python",
   "pygments_lexer": "ipython3",
   "version": "3.7.9"
  }
 },
 "nbformat": 4,
 "nbformat_minor": 2
}
